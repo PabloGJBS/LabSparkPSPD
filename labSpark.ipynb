{
 "cells": [
  {
   "cell_type": "markdown",
   "metadata": {},
   "source": [
    "# **Laboratorio sobre Spark**\n",
    "\n",
    "# **Alunos:**\n",
    "- Pedro Lucas Siqueira Fernandes(190115564)\n",
    "- Pablo Guilherme de J B Silva(200025791)\n",
    "- João Lucas Pinto Vasconcelos (190089601)\n",
    "- Arthur Taylor de Jesus Popov (190084642)\n"
   ]
  }
 ],
 "metadata": {
  "language_info": {
   "name": "python"
  }
 },
 "nbformat": 4,
 "nbformat_minor": 2
}
